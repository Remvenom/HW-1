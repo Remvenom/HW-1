{
 "cells": [
  {
   "cell_type": "markdown",
   "metadata": {},
   "source": [
    "**Задание 1**. Даны 2 строки: *long_phrase* и *short_phrase*. \n",
    "Напишите код, который проверяет действительно ли длинная фраза *long_phrase* длиннее короткой *short_phrase*. И выводит *True* или *False* в зависимости от результата сравнения."
   ]
  },
  {
   "cell_type": "code",
   "execution_count": 1,
   "metadata": {},
   "outputs": [],
   "source": [
    "long_phrase = 'Насколько проще было бы писать программы, если бы не заказчики'\n",
    "short_phrase = '640Кб должно хватить для любых задач. Билл Гейтс (по легенде)'"
   ]
  },
  {
   "cell_type": "code",
   "execution_count": 2,
   "metadata": {},
   "outputs": [
    {
     "data": {
      "text/plain": [
       "True"
      ]
     },
     "execution_count": 2,
     "metadata": {},
     "output_type": "execute_result"
    }
   ],
   "source": [
    "len (long_phrase) > len (short_phrase)"
   ]
  },
  {
   "cell_type": "markdown",
   "metadata": {},
   "source": [
    "**Задание 2**. Дано значение объема файла в байтах. Напишите перевод этого значения в мегабайты в формате: \"*Объем файла равен 213.68Mb*\""
   ]
  },
  {
   "cell_type": "code",
   "execution_count": 3,
   "metadata": {},
   "outputs": [
    {
     "name": "stdout",
     "output_type": "stream",
     "text": [
      "Объем файла равен 239.89Mb\n"
     ]
    }
   ],
   "source": [
    "byte = 251545667\n",
    "print ('Объем файла равен ' + str(round(byte/1048576 , 2))  + 'Mb')"
   ]
  },
  {
   "cell_type": "markdown",
   "metadata": {},
   "source": [
    "**Задание 3**. Разработать приложение для определения знака зодиака по дате рождения. Пример:\n",
    "\n",
    "Введите месяц: март\n",
    "\n",
    "Введите число: 6\n",
    "\n",
    "Вывод:\n",
    "Рыбы"
   ]
  },
  {
   "cell_type": "code",
   "execution_count": 4,
   "metadata": {},
   "outputs": [
    {
     "name": "stdout",
     "output_type": "stream",
     "text": [
      "Рыбы\n"
     ]
    }
   ],
   "source": [
    "month = 3\n",
    "day  = 6\n",
    "\n",
    "if (month == 1 and 21 <= day <= 31) or (month == 2 and 1 <= day <= 20):  \n",
    "    print ('Водолей')\n",
    "elif (month == 2 and 21 <= day <= 29) or (month == 3 and 1 <= day <= 20):  \n",
    "    print ('Рыбы')\n",
    "elif (month == 3 and 21 <= day <= 31) or (month == 4 and 1 <= day <= 20):  \n",
    "    print ('Овен')    \n",
    "elif (month == 4 and 21 <= day <= 30) or (month == 5 and 1 <= day <= 20):  \n",
    "    print ('Телец')    \n",
    "elif (month == 5 and 21 <= day <= 31) or (month == 6 and 1 <= day <= 21):  \n",
    "    print ('Близнецы')        \n",
    "elif (month == 6 and 22 <= day <= 30) or (month == 7 and 1 <= day <= 22):  \n",
    "    print ('Рак')        \n",
    "elif (month == 7 and 23 <= day <= 31) or (month == 8 and 1 <= day <= 23):  \n",
    "    print ('Лев')    \n",
    "elif (month == 8 and 24 <= day <= 31) or (month == 9 and 1 <= day <= 23):  \n",
    "    print ('Дева')    \n",
    "elif (month == 9 and 24 <= day <= 30) or (month == 10 and 1 <= day <= 23):  \n",
    "    print ('Весы')      \n",
    "elif (month == 10 and 24 <= day <= 31) or (month == 11 and 1 <= day <= 22):  \n",
    "    print ('Скорпион')        \n",
    "elif (month == 11 and 23 <= day <= 30) or (month == 12 and 1 <= day <= 21):  \n",
    "    print ('Стрелец')\n",
    "elif (month == 12 and 22 <= day <= 30) or (month == 1 and 1 <= day <= 20):  \n",
    "    print ('Козерог')    "
   ]
  },
  {
   "cell_type": "markdown",
   "metadata": {},
   "source": [
    "**Задание 4**. Нужно разработать приложение для финансового планирования.\n",
    "Приложение учитывает сколько уходит на ипотеку, \"на жизнь\" и сколько нужно отложить на пенсию.\n",
    "Пользователь вводит:\n",
    "- заработанную плату в месяц.\n",
    "- сколько процентов от ЗП уходит на ипотеку.\n",
    "- сколько процентов от ЗП уходит \"на жизнь\".\n",
    "- сколько раз приходит премия в год.\n",
    "\n",
    "Остальная часть заработанной платы откладывается на пенсию.\n",
    "\n",
    "Также пользователю приходит премия в размере зарплаты, от которой половина уходит на отпуск, а вторая половина откладывается.\n",
    "\n",
    "Программа должна учитывать сколько премий было в год.\n",
    "\n",
    "Нужно вывести сколько денег тратит пользователь на ипотеку и сколько он накопит за год.\n",
    "\n",
    "Пример:\n",
    "\n",
    "Введите заработанную плату в месяц: 100000\n",
    "\n",
    "Введите сколько процентов уходит на ипотеку: 30\n",
    "\n",
    "Введите сколько процентов уходит на жизнь: 50\n",
    "\n",
    "Введите количество премий за год: 2\n",
    "\n",
    "Вывод:\n",
    "На ипотеку было потрачено: 360000 рублей\n",
    "Было накоплено: 340000 рублей"
   ]
  },
  {
   "cell_type": "code",
   "execution_count": 5,
   "metadata": {},
   "outputs": [
    {
     "name": "stdout",
     "output_type": "stream",
     "text": [
      "На ипотеку было потрачено:  360000.0  руб.\n",
      "Было накоплено:  340000  руб.\n"
     ]
    }
   ],
   "source": [
    "salary = 100000\n",
    "mort_perc  = 30\n",
    "exp_perc = 50\n",
    "aw = 2\n",
    "\n",
    "vac_aw = 50\n",
    "\n",
    "y_aw = salary*aw*(vac_aw/100)\n",
    "pens = (salary * (1 - ((mort_perc + exp_perc)/100)))*12  + y_aw\n",
    "\n",
    "print ('На ипотеку было потрачено: ' , salary * (mort_perc/100)*12 , ' руб.')\n",
    "print ('Было накоплено: ' , round (pens) , ' руб.' )"
   ]
  },
  {
   "cell_type": "markdown",
   "metadata": {},
   "source": [
    "**Дополнительные задания.**\n",
    "**Задание 1**. \n",
    "\n",
    "https://ru.wikipedia.org/wiki/Fizz_buzz\n",
    "Начинающий произносит число “1”, и каждый следующий игрок прибавляет к предыдущему значению единицу. Когда число делится на три оно заменяется на fizz, если число делится на пять, то произносится buzz. Числа, делящиеся на три и пять одновременно заменяются на fizz buzz. Сделавший ошибку игрок исключается из игры.\n",
    "\n",
    "Типичная партия в fizz buzz выглядит так:\n",
    "1, 2, Fizz, 4, Buzz, Fizz, 7, 8, Fizz, Buzz, 11, Fizz, 13, 14, Fizz Buzz, 16, 17, Fizz, 19, Buzz, Fizz, 22, 23, Fizz, Buzz, 26, Fizz, 28, 29, Fizz Buzz, 31, 32, Fizz, 34, Buzz, Fizz, …\n",
    "\n",
    "Напишите код, выводящий на экран первые n элементов этой игры (естественно, корректные)."
   ]
  },
  {
   "cell_type": "code",
   "execution_count": 6,
   "metadata": {
    "scrolled": false
   },
   "outputs": [
    {
     "name": "stdout",
     "output_type": "stream",
     "text": [
      "1, 2, fizz, 4, buzz, fizz, 7, 8, fizz, buzz, 11, fizz, 13, 14, fizz buzz, 16, 17, fizz, 19, buzz, fizz, 22, 23, fizz, buzz, 26, fizz, 28, 29, fizz buzz, 31, 32, fizz, 34, buzz, ...\n"
     ]
    }
   ],
   "source": [
    "y  = ''\n",
    "for x in range(1,36):\n",
    "\n",
    "    if x % 3 == 0 and x % 5 == 0:\n",
    "        y = y + 'fizz buzz, '\n",
    "    elif x % 3 == 0:\n",
    "        y = y + 'fizz, '\n",
    "    elif x % 5 == 0:\n",
    "        y=  y + 'buzz, '        \n",
    "    else: y = y  + str (x) + ', ' \n",
    "        \n",
    "print (y + '...')     "
   ]
  },
  {
   "cell_type": "markdown",
   "metadata": {},
   "source": [
    "**Дополнительные задания.**\n",
    "**Задание 2**. \n",
    "\n",
    "Датчик принимает сигнал, состоящий из 0 и 1. Известно, что сигнал имеет периодичность, не превышающей натурального числа n. Напишите код, который вычисляет периодичность сигнала. Считайте, что 3 < n < 1000, а общая длина сигнала значительно превышает n.\n",
    "\n",
    "Пример сигнала с периодичностью 4 (повторяющийся элемент 1011):\n",
    "1011101110111011101110111011101110111011\n",
    "\n",
    "Еще одна интерпретация задачи, но без кода: https://tproger.ru/problems/endless-train/"
   ]
  },
  {
   "cell_type": "code",
   "execution_count": 7,
   "metadata": {},
   "outputs": [
    {
     "name": "stdout",
     "output_type": "stream",
     "text": [
      "1011\n",
      "4\n"
     ]
    }
   ],
   "source": [
    "s = '1011101110111011101110111011101110111011'\n",
    "\n",
    "i = (s+s)[1:-1].find(s)\n",
    "i2 = s[:i+1]\n",
    "print (i2)\n",
    "print (len(i2))"
   ]
  },
  {
   "cell_type": "markdown",
   "metadata": {},
   "source": [
    "**Дополнительные задания.**\n",
    "**Задание 3**. \n",
    "\n",
    "Дано слово из латинских букв. Напишите скрипт, который выводит на экран букву из середины слова (если число букв нечетное). Если букв четное число, то на экран выводятся две буквы из середины.\n",
    "\n",
    "Для ‘test’ - 'es’\n",
    "Для ‘testing’ - ‘t’"
   ]
  },
  {
   "cell_type": "code",
   "execution_count": 8,
   "metadata": {},
   "outputs": [
    {
     "name": "stdout",
     "output_type": "stream",
     "text": [
      "t\n"
     ]
    }
   ],
   "source": [
    "s = 'testing'\n",
    "if len(s)%2==0:\n",
    "    a = int (len(s)-(len(s)//2)-1)\n",
    "    b = int (len(s)-(len(s)//2))\n",
    "    print (s[a] + s[b])    \n",
    "else:\n",
    "    print (s[int (len(s)-(len(s)//2)-1)])"
   ]
  },
  {
   "cell_type": "code",
   "execution_count": null,
   "metadata": {},
   "outputs": [],
   "source": []
  }
 ],
 "metadata": {
  "kernelspec": {
   "display_name": "Python 3",
   "language": "python",
   "name": "python3"
  },
  "language_info": {
   "codemirror_mode": {
    "name": "ipython",
    "version": 3
   },
   "file_extension": ".py",
   "mimetype": "text/x-python",
   "name": "python",
   "nbconvert_exporter": "python",
   "pygments_lexer": "ipython3",
   "version": "3.7.4"
  }
 },
 "nbformat": 4,
 "nbformat_minor": 2
}
